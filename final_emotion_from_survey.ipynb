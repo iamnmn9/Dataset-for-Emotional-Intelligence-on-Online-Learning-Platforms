{
  "nbformat": 4,
  "nbformat_minor": 0,
  "metadata": {
    "colab": {
      "name": "final_emotion.ipynb",
      "provenance": []
    },
    "kernelspec": {
      "name": "python3",
      "display_name": "Python 3"
    },
    "language_info": {
      "name": "python"
    }
  },
  "cells": [
    {
      "cell_type": "code",
      "source": [
        "import pandas as pd\n",
        "import glob\n",
        "import os\n",
        "\n"
      ],
      "metadata": {
        "id": "GwxZMTSBwPGw"
      },
      "execution_count": 42,
      "outputs": []
    },
    {
      "cell_type": "code",
      "source": [
        "star1 = os.path.join('/content/sheeet final', \"*.csv\")\n",
        "star1 = glob.glob(star1)"
      ],
      "metadata": {
        "id": "3eXo6JJynOXi"
      },
      "execution_count": 96,
      "outputs": []
    },
    {
      "cell_type": "code",
      "source": [
        "x = sort(star1)"
      ],
      "metadata": {
        "id": "gDpPMbBTt92m"
      },
      "execution_count": 97,
      "outputs": []
    },
    {
      "cell_type": "code",
      "source": [
        "path_list=[]\n",
        "for paths in x:\n",
        "  path_list.append(paths)\n",
        "len(path_list)"
      ],
      "metadata": {
        "id": "7zVU2cF70CWL"
      },
      "execution_count": 98,
      "outputs": []
    },
    {
      "cell_type": "code",
      "source": [
        "emotion_list_=[]\n",
        "for i in range(len(path_list)-1):\n",
        "  \n",
        "  read = pd.read_csv(path_list[i])\n",
        "  \n",
        "  for j in read.columns[1:21]:\n",
        "   m = read[j].value_counts().idxmax()\n",
        "   emotion_list_.append(m)"
      ],
      "metadata": {
        "id": "JZDenitxwB2Z"
      },
      "execution_count": 146,
      "outputs": []
    },
    {
      "cell_type": "code",
      "source": [
        "read_last_csv = pd.read_csv(path_list[138])"
      ],
      "metadata": {
        "id": "8bE_AxxU3c4-"
      },
      "execution_count": 147,
      "outputs": []
    },
    {
      "cell_type": "code",
      "source": [
        "for k in read_last_csv.columns[1:25]:\n",
        "  m = read_last_csv[k].value_counts().idxmax()\n",
        "  emotion_list_.append(m)\n"
      ],
      "metadata": {
        "id": "BPvDXhGw3tWS"
      },
      "execution_count": 148,
      "outputs": []
    },
    {
      "cell_type": "code",
      "source": [
        "len(emotion_list_)"
      ],
      "metadata": {
        "colab": {
          "base_uri": "https://localhost:8080/"
        },
        "id": "3iP6MfiO3vC7",
        "outputId": "6413ba0c-7da4-4164-ed6a-09d7d2d91b50"
      },
      "execution_count": 149,
      "outputs": [
        {
          "output_type": "execute_result",
          "data": {
            "text/plain": [
              "2784"
            ]
          },
          "metadata": {},
          "execution_count": 149
        }
      ]
    },
    {
      "cell_type": "code",
      "source": [
        "emotions = emotion_list_ \n",
        "     \n",
        "# dictionary of lists  \n",
        "dict = {'emotions': emotions}  \n",
        "       \n",
        "df = pd.DataFrame(dict) \n",
        "    \n",
        "# saving the dataframe \n",
        "df.to_csv('Final_face_to_emotion.csv') "
      ],
      "metadata": {
        "id": "aoSd5fQm-wJ2"
      },
      "execution_count": 157,
      "outputs": []
    },
    {
      "cell_type": "code",
      "source": [
        ""
      ],
      "metadata": {
        "id": "qLN9mcvE_3ri"
      },
      "execution_count": null,
      "outputs": []
    }
  ]
}